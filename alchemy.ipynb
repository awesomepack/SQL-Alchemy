{
 "cells": [
  {
   "cell_type": "code",
   "execution_count": 2,
   "source": [
    "%matplotlib inline\r\n",
    "from matplotlib import style\r\n",
    "style.use('fivethirtyeight')\r\n",
    "import matplotlib.pyplot as plt"
   ],
   "outputs": [],
   "metadata": {}
  },
  {
   "cell_type": "code",
   "execution_count": 3,
   "source": [
    "import numpy as np\r\n",
    "import pandas as pd\r\n",
    "import datetime as dt"
   ],
   "outputs": [],
   "metadata": {}
  },
  {
   "cell_type": "markdown",
   "source": [
    "# Reflect Tables into SQLAlchemy ORM"
   ],
   "metadata": {}
  },
  {
   "cell_type": "code",
   "execution_count": 4,
   "source": [
    "# Python SQL toolkit and Object Relational Mapper\r\n",
    "import sqlalchemy\r\n",
    "from sqlalchemy.ext.automap import automap_base\r\n",
    "from sqlalchemy.orm import Session\r\n",
    "from sqlalchemy import create_engine, func"
   ],
   "outputs": [],
   "metadata": {}
  },
  {
   "cell_type": "code",
   "execution_count": 5,
   "source": [
    "# create engine to hawaii.sqlite\r\n",
    "engine = create_engine(\"sqlite:///hawaii.sqlite\")\r\n",
    "\r\n",
    "# Defining a base\r\n",
    "Base = automap_base()\r\n",
    "\r\n",
    "# Preparing Base / reflecting \r\n",
    "Base.prepare(engine , reflect= True)\r\n"
   ],
   "outputs": [],
   "metadata": {}
  },
  {
   "cell_type": "code",
   "execution_count": 6,
   "source": [
    "# Viewing the tables present in hawaii.hawaii.sqlite\r\n",
    "Base.classes.keys()\r\n",
    "\r\n",
    "# Creating references for each table in the database\r\n",
    "stations  = Base.classes.station # Data on weather stations in Hawai\r\n",
    "\r\n",
    "precip = Base.classes.measurement # Data on precipitation collected by stations\r\n"
   ],
   "outputs": [],
   "metadata": {}
  },
  {
   "cell_type": "code",
   "execution_count": 7,
   "source": [
    "# Create our session (link) from Python to the DB\r\n",
    "session = Session(engine)"
   ],
   "outputs": [],
   "metadata": {}
  },
  {
   "cell_type": "markdown",
   "source": [
    "# Exploratory Precipitation Analysis"
   ],
   "metadata": {}
  },
  {
   "cell_type": "code",
   "execution_count": 8,
   "source": [
    "# Find the most recent date in the data set.\r\n",
    "from sqlalchemy import desc\r\n",
    "from sqlalchemy import asc\r\n",
    "\r\n",
    "recent_date = session.query(precip).order_by(precip.date.desc()).all()\r\n",
    "\r\n",
    "# Viewing the columns that exist in the precipitation table\r\n",
    "keys = session.query(precip).order_by(precip.date.desc()).first().__dict__.keys()\r\n",
    "\r\n",
    "#defining the structure of the dictionary object\r\n",
    "\r\n",
    "precip_dict = {\r\n",
    "    'id' : [] , \r\n",
    "    'date' : [] , \r\n",
    "    'prcp' : [] , \r\n",
    "    'station' : [] , \r\n",
    "    'tobs' : [] \r\n",
    "}\r\n",
    "\r\n",
    "# Storing the results of the query into the precip_dict\r\n",
    "\r\n",
    "for row in recent_date:\r\n",
    "\r\n",
    "    precip_dict['id'].append(row.id);\r\n",
    "    precip_dict['date'].append(row.date);\r\n",
    "    precip_dict['prcp'].append(row.prcp);\r\n",
    "    precip_dict['station'].append(row.station);\r\n",
    "    precip_dict['tobs'].append(row.tobs);\r\n",
    "\r\n",
    "# Converting dictionary object into pandas dataframe\r\n",
    "\r\n",
    "precip_df =  pd.DataFrame(precip_dict)\r\n",
    "\r\n",
    "# Storing the most recent date in a reference\r\n",
    "recent_date = precip_df['date'][0];\r\n",
    "\r\n"
   ],
   "outputs": [],
   "metadata": {}
  },
  {
   "cell_type": "code",
   "execution_count": 9,
   "source": [
    "# Design a query to retrieve the last 12 months of precipitation data and plot the results. \r\n",
    "# Starting from the most recent data point in the database.\r\n",
    "\r\n",
    "# Calculate the date one year from the last date in data set.\r\n",
    "from datetime import timedelta\r\n",
    "\r\n",
    "# Convert the most recent date into a datetime object\r\n",
    "start_date = dt.datetime.strptime(recent_date , '%Y-%m-%d')\r\n",
    "\r\n",
    "# Compute a date that is 1 year away from our most recent date\r\n",
    "end_date = start_date - dt.timedelta(days = 365)\r\n",
    "\r\n",
    "# Perform a query to retrieve the data and precipitation scores\r\n",
    "annual_prcp = session.query(precip).\\\r\n",
    "    filter(precip.date.between(dt.datetime.strftime(end_date , '%Y-%m-%d') , dt.datetime.strftime(start_date , '%Y-%m-%d')))\r\n",
    "\r\n",
    "\r\n",
    "# Defining annual_prcp_dict structure\r\n",
    "annual_prcp_dict = {\r\n",
    "    'id': [] , \r\n",
    "    'date': [] ,\r\n",
    "    'prcp': [] , \r\n",
    "    'station': [] , \r\n",
    "    'tobs': []\r\n",
    "}\r\n",
    "\r\n",
    "# Populating the annual_prcp_dict with the results of the annual_prcp query\r\n",
    "\r\n",
    "for row in annual_prcp:\r\n",
    "    \r\n",
    "    annual_prcp_dict['id'].append(row.id);\r\n",
    "    annual_prcp_dict['date'].append(row.date);\r\n",
    "    annual_prcp_dict['prcp'].append(row.prcp);\r\n",
    "    annual_prcp_dict['station'].append(row.station);\r\n",
    "    annual_prcp_dict['tobs'].append(row.tobs);\r\n",
    "\r\n",
    "# Save the query results as a Pandas DataFrame and set the index to the date column\r\n",
    "\r\n",
    "annual_prcp_df = pd.DataFrame(annual_prcp_dict , );\r\n",
    "annual_prcp_df = annual_prcp_df.set_index('date'); # Setting date as the index\r\n",
    "\r\n",
    "# Sort the dataframe by date\r\n",
    "\r\n",
    "annual_prcp_df.sort_values(by = 'date' , ascending = False)\r\n",
    "\r\n",
    "# Use Pandas Plotting with Matplotlib to plot the data\r\n",
    "annual_prcp_df.plot(y = 'prcp')\r\n",
    "\r\n"
   ],
   "outputs": [
    {
     "output_type": "execute_result",
     "data": {
      "text/plain": [
       "<AxesSubplot:xlabel='date'>"
      ]
     },
     "metadata": {},
     "execution_count": 9
    },
    {
     "output_type": "display_data",
     "data": {
      "text/plain": [
       "<Figure size 432x288 with 1 Axes>"
      ],
      "image/png": "[encoded data removed]"
     },
     "metadata": {}
    }
   ],
   "metadata": {}
  },
  {
   "cell_type": "code",
   "execution_count": 10,
   "source": [
    "# Use Pandas to calcualte the summary statistics for the precipitation data\r\n",
    "annual_prcp_df['prcp'].describe()"
   ],
   "outputs": [
    {
     "output_type": "execute_result",
     "data": {
      "text/plain": [
       "count    2021.000000\n",
       "mean        0.177279\n",
       "std         0.461190\n",
       "min         0.000000\n",
       "25%         0.000000\n",
       "50%         0.020000\n",
       "75%         0.130000\n",
       "max         6.700000\n",
       "Name: prcp, dtype: float64"
      ]
     },
     "metadata": {},
     "execution_count": 10
    }
   ],
   "metadata": {}
  },
  {
   "cell_type": "markdown",
   "source": [
    "# Exploratory Station Analysis"
   ],
   "metadata": {}
  },
  {
   "cell_type": "code",
   "execution_count": 11,
   "source": [
    "# Design a query to calculate the total number stations in the dataset\r\n",
    "station_count = session.query(stations).count();\r\n",
    "print(f'The number of stations in Hawaii is {station_count}');\r\n"
   ],
   "outputs": [
    {
     "output_type": "stream",
     "name": "stdout",
     "text": [
      "The number of stations in Hawaii is 9\n"
     ]
    }
   ],
   "metadata": {}
  },
  {
   "cell_type": "code",
   "execution_count": 19,
   "source": [
    "# Design a query to find the most active stations (i.e. what stations have the most rows?)\r\n",
    "# List the stations and the counts in descending order.\r\n",
    "\r\n",
    "# Query joins on station id from tables Measurement and \r\n",
    "selection = [precip.station , stations.name , precip.tobs];\r\n",
    "\r\n",
    "ON_station = session.query(*selection).filter(precip.station == stations.station).all()\r\n",
    "\r\n",
    "# Storing the results as a pandas data frame\r\n",
    "\r\n",
    "station_df = pd.DataFrame(ON_station , columns = ['Station' , 'Station_Name' , 'Temp'])\r\n",
    "\r\n",
    "# grouping by station to get a count of rows per station\r\n",
    "station_count_df = pd.DataFrame(station_df.groupby('Station').count())\r\n",
    "\r\n",
    "# Sorting by descending\r\n",
    "\r\n",
    "station_count_df.sort_values('Temp' ,ascending=False)\r\n",
    "\r\n",
    "# the station id with the highest count (most active is: USC00519281)\r\n",
    "\r\n",
    "\r\n",
    "\r\n",
    "\r\n"
   ],
   "outputs": [
    {
     "output_type": "execute_result",
     "data": {
      "text/plain": [
       "             Station_Name  Temp\n",
       "Station                        \n",
       "USC00519281          2772  2772\n",
       "USC00519397          2724  2724\n",
       "USC00513117          2709  2709\n",
       "USC00519523          2669  2669\n",
       "USC00516128          2612  2612\n",
       "USC00514830          2202  2202\n",
       "USC00511918          1979  1979\n",
       "USC00517948          1372  1372\n",
       "USC00518838           511   511"
      ],
      "text/html": [
       "<div>\n",
       "<style scoped>\n",
       "    .dataframe tbody tr th:only-of-type {\n",
       "        vertical-align: middle;\n",
       "    }\n",
       "\n",
       "    .dataframe tbody tr th {\n",
       "        vertical-align: top;\n",
       "    }\n",
       "\n",
       "    .dataframe thead th {\n",
       "        text-align: right;\n",
       "    }\n",
       "</style>\n",
       "<table border=\"1\" class=\"dataframe\">\n",
       "  <thead>\n",
       "    <tr style=\"text-align: right;\">\n",
       "      <th></th>\n",
       "      <th>Station_Name</th>\n",
       "      <th>Temp</th>\n",
       "    </tr>\n",
       "    <tr>\n",
       "      <th>Station</th>\n",
       "      <th></th>\n",
       "      <th></th>\n",
       "    </tr>\n",
       "  </thead>\n",
       "  <tbody>\n",
       "    <tr>\n",
       "      <th>USC00519281</th>\n",
       "      <td>2772</td>\n",
       "      <td>2772</td>\n",
       "    </tr>\n",
       "    <tr>\n",
       "      <th>USC00519397</th>\n",
       "      <td>2724</td>\n",
       "      <td>2724</td>\n",
       "    </tr>\n",
       "    <tr>\n",
       "      <th>USC00513117</th>\n",
       "      <td>2709</td>\n",
       "      <td>2709</td>\n",
       "    </tr>\n",
       "    <tr>\n",
       "      <th>USC00519523</th>\n",
       "      <td>2669</td>\n",
       "      <td>2669</td>\n",
       "    </tr>\n",
       "    <tr>\n",
       "      <th>USC00516128</th>\n",
       "      <td>2612</td>\n",
       "      <td>2612</td>\n",
       "    </tr>\n",
       "    <tr>\n",
       "      <th>USC00514830</th>\n",
       "      <td>2202</td>\n",
       "      <td>2202</td>\n",
       "    </tr>\n",
       "    <tr>\n",
       "      <th>USC00511918</th>\n",
       "      <td>1979</td>\n",
       "      <td>1979</td>\n",
       "    </tr>\n",
       "    <tr>\n",
       "      <th>USC00517948</th>\n",
       "      <td>1372</td>\n",
       "      <td>1372</td>\n",
       "    </tr>\n",
       "    <tr>\n",
       "      <th>USC00518838</th>\n",
       "      <td>511</td>\n",
       "      <td>511</td>\n",
       "    </tr>\n",
       "  </tbody>\n",
       "</table>\n",
       "</div>"
      ]
     },
     "metadata": {},
     "execution_count": 19
    }
   ],
   "metadata": {}
  },
  {
   "cell_type": "code",
   "execution_count": 39,
   "source": [
    "# Using the most active station id from the previous query, calculate the lowest, highest, and average temperature.\r\n",
    "from sqlalchemy import func\r\n",
    "\r\n",
    "max_temp = session.query(precip , func.max(precip.tobs)).filter(precip.station == 'USC00519281' ).all()\r\n",
    "min_temp = session.query(precip , func.min(precip.tobs)).filter(precip.station == 'USC00519281').all()\r\n",
    "avg_temp = session.query(precip , func.avg(precip.tobs)).filter(precip.station == 'USC00519281').all()"
   ],
   "outputs": [],
   "metadata": {}
  },
  {
   "cell_type": "code",
   "execution_count": 45,
   "source": [
    "# Using the most active station id\r\n",
    "# Query the last 12 months of temperature observation data for this station and plot the results as a histogram\r\n",
    "most_active_query = session.query(precip).filter(precip.station == 'USC00519281')\\\r\n",
    "    .filter(precip.date\\\r\n",
    "        .between(dt.datetime.strftime(end_date , '%Y-%m-%d') , dt.datetime.strftime(start_date , '%Y-%m-%d'))).all().__dict__\r\n",
    "\r\n",
    "# Defining dictionary structure for conversion into dictionary\r\n",
    "most\r\n"
   ],
   "outputs": [
    {
     "output_type": "execute_result",
     "data": {
      "text/plain": [
       "{'_sa_instance_state': <sqlalchemy.orm.state.InstanceState at 0x1c90fa35ca0>,\n",
       " 'prcp': 1.79,\n",
       " 'station': 'USC00519281',\n",
       " 'tobs': 77.0,\n",
       " 'date': '2016-08-23',\n",
       " 'id': 14608}"
      ]
     },
     "metadata": {},
     "execution_count": 45
    }
   ],
   "metadata": {}
  },
  {
   "cell_type": "markdown",
   "source": [
    "# Close session"
   ],
   "metadata": {}
  },
  {
   "cell_type": "code",
   "execution_count": 15,
   "source": [
    "# Close Session\r\n",
    "session.close()"
   ],
   "outputs": [],
   "metadata": {}
  },
  {
   "cell_type": "code",
   "execution_count": null,
   "source": [],
   "outputs": [],
   "metadata": {}
  }
 ],
 "metadata": {
  "anaconda-cloud": {},
  "kernel_info": {
   "name": "python3"
  },
  "kernelspec": {
   "name": "python3",
   "display_name": "Python 3.8.8 64-bit ('base': conda)"
  },
  "language_info": {
   "codemirror_mode": {
    "name": "ipython",
    "version": 3
   },
   "file_extension": ".py",
   "mimetype": "text/x-python",
   "name": "python",
   "nbconvert_exporter": "python",
   "pygments_lexer": "ipython3",
   "version": "3.8.8"
  },
  "nteract": {
   "version": "0.12.3"
  },
  "varInspector": {
   "cols": {
    "lenName": 16,
    "lenType": 16,
    "lenVar": 40
   },
   "kernels_config": {
    "python": {
     "delete_cmd_postfix": "",
     "delete_cmd_prefix": "del ",
     "library": "var_list.py",
     "varRefreshCmd": "print(var_dic_list())"
    },
    "r": {
     "delete_cmd_postfix": ") ",
     "delete_cmd_prefix": "rm(",
     "library": "var_list.r",
     "varRefreshCmd": "cat(var_dic_list()) "
    }
   },
   "types_to_exclude": [
    "module",
    "function",
    "builtin_function_or_method",
    "instance",
    "_Feature"
   ],
   "window_display": false
  },
  "interpreter": {
   "hash": "d0612af51d520778623e3976a8283ab01d740464dfd1d7760c60614b40f0e147"
  }
 },
 "nbformat": 4,
 "nbformat_minor": 2
}